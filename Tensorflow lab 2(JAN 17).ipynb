{
 "cells": [
  {
   "cell_type": "markdown",
   "metadata": {},
   "source": [
    "# MultiLayer Perceptron"
   ]
  },
  {
   "cell_type": "markdown",
   "metadata": {},
   "source": [
    "# LAB WORK"
   ]
  },
  {
   "cell_type": "code",
   "execution_count": 2,
   "metadata": {},
   "outputs": [],
   "source": [
    "import tensorflow as tf\n",
    "import numpy as np"
   ]
  },
  {
   "cell_type": "code",
   "execution_count": 3,
   "metadata": {},
   "outputs": [
    {
     "data": {
      "text/plain": [
       "<tensorflow.python.client.session.InteractiveSession at 0x22ecd7766d8>"
      ]
     },
     "execution_count": 3,
     "metadata": {},
     "output_type": "execute_result"
    }
   ],
   "source": [
    "tf.InteractiveSession()"
   ]
  },
  {
   "cell_type": "code",
   "execution_count": 3,
   "metadata": {},
   "outputs": [],
   "source": [
    "#Defining tensors\n"
   ]
  },
  {
   "cell_type": "code",
   "execution_count": 4,
   "metadata": {},
   "outputs": [],
   "source": [
    "a=tf.zeros((2,2))\n",
    "b=tf.ones((2,3))"
   ]
  },
  {
   "cell_type": "code",
   "execution_count": 5,
   "metadata": {},
   "outputs": [
    {
     "data": {
      "text/plain": [
       "array([[0., 0.],\n",
       "       [0., 0.]], dtype=float32)"
      ]
     },
     "execution_count": 5,
     "metadata": {},
     "output_type": "execute_result"
    }
   ],
   "source": [
    "a.eval()"
   ]
  },
  {
   "cell_type": "code",
   "execution_count": 6,
   "metadata": {},
   "outputs": [
    {
     "data": {
      "text/plain": [
       "array([[1., 1., 1.],\n",
       "       [1., 1., 1.]], dtype=float32)"
      ]
     },
     "execution_count": 6,
     "metadata": {},
     "output_type": "execute_result"
    }
   ],
   "source": [
    "b.eval()"
   ]
  },
  {
   "cell_type": "code",
   "execution_count": 7,
   "metadata": {},
   "outputs": [
    {
     "data": {
      "text/plain": [
       "array([3., 3.], dtype=float32)"
      ]
     },
     "execution_count": 7,
     "metadata": {},
     "output_type": "execute_result"
    }
   ],
   "source": [
    "tf.reduce_sum(b,reduction_indices=1).eval()"
   ]
  },
  {
   "cell_type": "code",
   "execution_count": 8,
   "metadata": {},
   "outputs": [
    {
     "data": {
      "text/plain": [
       "array([2., 2., 2.], dtype=float32)"
      ]
     },
     "execution_count": 8,
     "metadata": {},
     "output_type": "execute_result"
    }
   ],
   "source": [
    "tf.reduce_sum(b,reduction_indices=0).eval()\n",
    "#0 is for coulmn wise and 1 is for row wise"
   ]
  },
  {
   "cell_type": "code",
   "execution_count": 9,
   "metadata": {},
   "outputs": [
    {
     "data": {
      "text/plain": [
       "TensorShape([Dimension(2), Dimension(2)])"
      ]
     },
     "execution_count": 9,
     "metadata": {},
     "output_type": "execute_result"
    }
   ],
   "source": [
    "#Getting shape of variable\n",
    "a.get_shape()"
   ]
  },
  {
   "cell_type": "code",
   "execution_count": 10,
   "metadata": {},
   "outputs": [
    {
     "data": {
      "text/plain": [
       "array([[0., 0., 0., 0.]], dtype=float32)"
      ]
     },
     "execution_count": 10,
     "metadata": {},
     "output_type": "execute_result"
    }
   ],
   "source": [
    "#Reshaping the tensor\n",
    "tf.reshape(a,(1,4)).eval()"
   ]
  },
  {
   "cell_type": "code",
   "execution_count": 11,
   "metadata": {},
   "outputs": [
    {
     "name": "stdout",
     "output_type": "stream",
     "text": [
      "Tensor(\"zeros_1:0\", shape=(2, 2), dtype=float32)\n"
     ]
    }
   ],
   "source": [
    "#Explicit evaluation in tensorflow \n",
    "ta=tf.zeros((2,2))\n",
    "print(ta)"
   ]
  },
  {
   "cell_type": "code",
   "execution_count": 12,
   "metadata": {},
   "outputs": [
    {
     "name": "stdout",
     "output_type": "stream",
     "text": [
      "[[0. 0.]\n",
      " [0. 0.]]\n"
     ]
    }
   ],
   "source": [
    "print(ta.eval())"
   ]
  },
  {
   "cell_type": "code",
   "execution_count": 15,
   "metadata": {},
   "outputs": [
    {
     "name": "stdout",
     "output_type": "stream",
     "text": [
      "[[0. 0.]\n",
      " [0. 0.]]\n"
     ]
    }
   ],
   "source": [
    "a=np.zeros((2,2))\n",
    "print(a)\n",
    "#Tensor wil not evaluate till you ask for it where as numpy will do the operation"
   ]
  },
  {
   "cell_type": "code",
   "execution_count": 16,
   "metadata": {},
   "outputs": [],
   "source": [
    "#Defining the constant\n",
    "a=tf.constant(1)\n",
    "b=tf.constant(2)\n",
    "c=a*b\n"
   ]
  },
  {
   "cell_type": "code",
   "execution_count": 17,
   "metadata": {},
   "outputs": [
    {
     "data": {
      "text/plain": [
       "2"
      ]
     },
     "execution_count": 17,
     "metadata": {},
     "output_type": "execute_result"
    }
   ],
   "source": [
    "c.eval()"
   ]
  },
  {
   "cell_type": "code",
   "execution_count": 18,
   "metadata": {},
   "outputs": [
    {
     "name": "stdout",
     "output_type": "stream",
     "text": [
      "2\n",
      "2\n"
     ]
    }
   ],
   "source": [
    "with tf.Session() as sess:\n",
    "    print(c.eval())\n",
    "    print(sess.run(c))"
   ]
  },
  {
   "cell_type": "code",
   "execution_count": 19,
   "metadata": {},
   "outputs": [],
   "source": [
    "#Defining variables\n",
    "w=tf.ones((2,2),name=\"Weight\")"
   ]
  },
  {
   "cell_type": "code",
   "execution_count": 20,
   "metadata": {},
   "outputs": [
    {
     "data": {
      "text/plain": [
       "array([[1., 1.],\n",
       "       [1., 1.]], dtype=float32)"
      ]
     },
     "execution_count": 20,
     "metadata": {},
     "output_type": "execute_result"
    }
   ],
   "source": [
    "w.eval()"
   ]
  },
  {
   "cell_type": "code",
   "execution_count": 24,
   "metadata": {},
   "outputs": [
    {
     "name": "stdout",
     "output_type": "stream",
     "text": [
      "[[1. 1.]\n",
      " [1. 1.]]\n"
     ]
    }
   ],
   "source": [
    "#Initialising variable after invoking session\n",
    "with tf.Session() as sess:\n",
    "    sess.run(tf.global_variables_initializer())\n",
    "    print(sess.run(w))"
   ]
  },
  {
   "cell_type": "code",
   "execution_count": 26,
   "metadata": {},
   "outputs": [],
   "source": [
    "#defining variable with random normal\n",
    "nw=tf.Variable(tf.random_normal((2,2),name=\"random_weight\"))"
   ]
  },
  {
   "cell_type": "code",
   "execution_count": 27,
   "metadata": {},
   "outputs": [
    {
     "name": "stdout",
     "output_type": "stream",
     "text": [
      "[[ 0.36749223 -1.286126  ]\n",
      " [-0.3935514   1.0600538 ]]\n"
     ]
    }
   ],
   "source": [
    "with tf.Session() as sess:\n",
    "    sess.run(tf.global_variables_initializer())\n",
    "    print(sess.run(nw))"
   ]
  },
  {
   "cell_type": "code",
   "execution_count": 28,
   "metadata": {},
   "outputs": [],
   "source": [
    "#TensorFlow State Update"
   ]
  },
  {
   "cell_type": "code",
   "execution_count": 29,
   "metadata": {},
   "outputs": [],
   "source": [
    "var_1=tf.Variable(0,name=\"var_1\")\n",
    "ass_op=tf.add(var_1,tf.constant(1))\n",
    "ass_upd=tf.assign(var_1,ass_op)"
   ]
  },
  {
   "cell_type": "code",
   "execution_count": 35,
   "metadata": {},
   "outputs": [
    {
     "name": "stdout",
     "output_type": "stream",
     "text": [
      "1\n",
      "2\n",
      "3\n",
      "4\n",
      "5\n"
     ]
    }
   ],
   "source": [
    "with tf.Session() as sess:\n",
    "    sess.run(tf.global_variables_initializer())\n",
    "    for i in range(5):\n",
    "        print(sess.run(ass_upd))"
   ]
  },
  {
   "cell_type": "code",
   "execution_count": 47,
   "metadata": {},
   "outputs": [
    {
     "name": "stdout",
     "output_type": "stream",
     "text": [
      "[5, 12]\n"
     ]
    }
   ],
   "source": [
    "#Displaying The TensorFlow Variable State\n",
    "x=tf.constant(1)\n",
    "y=tf.constant(5)\n",
    "z=tf.constant(7)\n",
    "mul_x_y=x*y\n",
    "final_op=x*y+z\n",
    "with tf.Session() as sess:\n",
    "    print(sess.run([mul_x_y,final_op]))"
   ]
  },
  {
   "cell_type": "code",
   "execution_count": 45,
   "metadata": {},
   "outputs": [
    {
     "name": "stdout",
     "output_type": "stream",
     "text": [
      "[[0. 0.]\n",
      " [0. 0.]]\n"
     ]
    }
   ],
   "source": [
    "#Converting a Numpy array to Tensor\n",
    "a=np.zeros((2,2))\n",
    "b=tf.convert_to_tensor(a)\n",
    "with tf.Session() as sess:\n",
    "    print(sess.run(b))"
   ]
  },
  {
   "cell_type": "code",
   "execution_count": 51,
   "metadata": {},
   "outputs": [
    {
     "name": "stdout",
     "output_type": "stream",
     "text": [
      "[array([[11.]], dtype=float32)]\n"
     ]
    }
   ],
   "source": [
    "#Placeholder and Feed Dictionary\n",
    "inp1=tf.placeholder(tf.float32,shape=(1,2))\n",
    "inp2=tf.placeholder(tf.float32,shape=(2,1))\n",
    "output=tf.matmul(inp1,inp2)\n",
    "with tf.Session() as sess:\n",
    "    print(sess.run([output],feed_dict={inp1:[[1,3]],inp2:[[2],[3]]}))"
   ]
  },
  {
   "cell_type": "code",
   "execution_count": 62,
   "metadata": {
    "scrolled": true
   },
   "outputs": [
    {
     "name": "stdout",
     "output_type": "stream",
     "text": [
      "Epoch 0\n",
      "Prediction [[0.500934  ]\n",
      " [0.3270511 ]\n",
      " [0.37569466]\n",
      " [0.22563025]]\n",
      "Weight from input to hidden layer: [[-0.9797762   0.27926224]\n",
      " [-0.68747395 -0.17974493]]\n",
      "Bias in the hidden layer: [0.00115568 0.00140522]\n",
      "Weight from hidden to output layer [[0.800073  ]\n",
      " [0.97504616]]\n",
      "Bias in the output layer [0.0014413]\n",
      "Cost 0.761835\n",
      "Epoch 10000\n",
      "Prediction [[0.50003254]\n",
      " [0.49996984]\n",
      " [0.5000389 ]\n",
      " [0.49997628]]\n",
      "Weight from input to hidden layer: [[-0.8923571   0.40418777]\n",
      " [-0.45855558  0.20744216]]\n",
      "Bias in the hidden layer: [ 0.02204675 -0.00655632]\n",
      "Weight from hidden to output layer [[0.46332493]\n",
      " [1.0229819 ]]\n",
      "Bias in the output layer [-0.00337766]\n",
      "Cost 0.69314724\n",
      "Epoch 20000\n",
      "Prediction [[0.5000001 ]\n",
      " [0.4999972 ]\n",
      " [0.5000028 ]\n",
      " [0.49999988]]\n",
      "Weight from input to hidden layer: [[-0.8923571   0.40415263]\n",
      " [-0.45848435  0.20763278]]\n",
      "Bias in the hidden layer: [ 0.02202008 -0.00661465]\n",
      "Weight from hidden to output layer [[0.46330112]\n",
      " [1.0229819 ]]\n",
      "Bias in the output layer [-0.00343475]\n",
      "Cost 0.6931472\n",
      "Epoch 30000\n",
      "Prediction [[0.5000001 ]\n",
      " [0.4999972 ]\n",
      " [0.5000028 ]\n",
      " [0.49999988]]\n",
      "Weight from input to hidden layer: [[-0.8923571   0.40415263]\n",
      " [-0.45848435  0.20763278]]\n",
      "Bias in the hidden layer: [ 0.02202008 -0.00661465]\n",
      "Weight from hidden to output layer [[0.46330112]\n",
      " [1.0229819 ]]\n",
      "Bias in the output layer [-0.00343475]\n",
      "Cost 0.6931472\n",
      "Epoch 40000\n",
      "Prediction [[0.5000001 ]\n",
      " [0.4999972 ]\n",
      " [0.5000028 ]\n",
      " [0.49999988]]\n",
      "Weight from input to hidden layer: [[-0.8923571   0.40415263]\n",
      " [-0.45848435  0.20763278]]\n",
      "Bias in the hidden layer: [ 0.02202008 -0.00661465]\n",
      "Weight from hidden to output layer [[0.46330112]\n",
      " [1.0229819 ]]\n",
      "Bias in the output layer [-0.00343475]\n",
      "Cost 0.6931472\n",
      "Epoch 50000\n",
      "Prediction [[0.5000001 ]\n",
      " [0.4999972 ]\n",
      " [0.5000028 ]\n",
      " [0.49999988]]\n",
      "Weight from input to hidden layer: [[-0.8923571   0.40415263]\n",
      " [-0.45848435  0.20763278]]\n",
      "Bias in the hidden layer: [ 0.02202008 -0.00661465]\n",
      "Weight from hidden to output layer [[0.46330112]\n",
      " [1.0229819 ]]\n",
      "Bias in the output layer [-0.00343475]\n",
      "Cost 0.6931472\n",
      "Epoch 60000\n",
      "Prediction [[0.5000001 ]\n",
      " [0.4999972 ]\n",
      " [0.5000028 ]\n",
      " [0.49999988]]\n",
      "Weight from input to hidden layer: [[-0.8923571   0.40415263]\n",
      " [-0.45848435  0.20763278]]\n",
      "Bias in the hidden layer: [ 0.02202008 -0.00661465]\n",
      "Weight from hidden to output layer [[0.46330112]\n",
      " [1.0229819 ]]\n",
      "Bias in the output layer [-0.00343475]\n",
      "Cost 0.6931472\n",
      "Epoch 70000\n",
      "Prediction [[0.5000001 ]\n",
      " [0.4999972 ]\n",
      " [0.5000028 ]\n",
      " [0.49999988]]\n",
      "Weight from input to hidden layer: [[-0.8923571   0.40415263]\n",
      " [-0.45848435  0.20763278]]\n",
      "Bias in the hidden layer: [ 0.02202008 -0.00661465]\n",
      "Weight from hidden to output layer [[0.46330112]\n",
      " [1.0229819 ]]\n",
      "Bias in the output layer [-0.00343475]\n",
      "Cost 0.6931472\n",
      "Epoch 80000\n",
      "Prediction [[0.5000001 ]\n",
      " [0.4999972 ]\n",
      " [0.5000028 ]\n",
      " [0.49999988]]\n",
      "Weight from input to hidden layer: [[-0.8923571   0.40415263]\n",
      " [-0.45848435  0.20763278]]\n",
      "Bias in the hidden layer: [ 0.02202008 -0.00661465]\n",
      "Weight from hidden to output layer [[0.46330112]\n",
      " [1.0229819 ]]\n",
      "Bias in the output layer [-0.00343475]\n",
      "Cost 0.6931472\n",
      "Epoch 90000\n",
      "Prediction [[0.5000001 ]\n",
      " [0.4999972 ]\n",
      " [0.5000028 ]\n",
      " [0.49999988]]\n",
      "Weight from input to hidden layer: [[-0.8923571   0.40415263]\n",
      " [-0.45848435  0.20763278]]\n",
      "Bias in the hidden layer: [ 0.02202008 -0.00661465]\n",
      "Weight from hidden to output layer [[0.46330112]\n",
      " [1.0229819 ]]\n",
      "Bias in the output layer [-0.00343475]\n",
      "Cost 0.6931472\n",
      "Final Prediction [[0.5000001 ]\n",
      " [0.4999972 ]\n",
      " [0.5000028 ]\n",
      " [0.49999988]]\n"
     ]
    }
   ],
   "source": [
    "#XOR implementation in TensorFlow with linear Activation\n",
    "X_=tf.placeholder(tf.float32,shape=[4,2],name=\"x-input\")\n",
    "Y_=tf.placeholder(tf.float32,shape=[4,1],name=\"y-input\")\n",
    "#Random weights\n",
    "w1=tf.Variable(tf.random_uniform([2,2],-1,1),name=\"weights1\")\n",
    "w2=tf.Variable(tf.random_uniform([2,1],-1,1),name=\"weights2\")\n",
    "#Bias to hidden and output layer respectively\n",
    "b1=tf.Variable(tf.zeros([2]),name=\"Bias1\")\n",
    "b2=tf.Variable(tf.zeros([1]),name=\"Bias2\")\n",
    "#Define the final output through final pass\n",
    "z2=tf.matmul(X_,w1)+b1\n",
    "pred=tf.sigmoid(tf.matmul(z2,w2)+b2)\n",
    "\n",
    "#Define the CRoss-entropy\n",
    "cost=tf.reduce_mean(((Y_*tf.log(pred))+((1-Y_)*tf.log(1-pred)))*-1)\n",
    "learning_rate=0.01\n",
    "train_step=tf.train.GradientDescentOptimizer(learning_rate).minimize(cost)\n",
    "XOR_X=[[0,0],[0,1],[1,0],[1,1]]\n",
    "XOR_Y=[[0],[1],[1],[0]]\n",
    "\n",
    "init=tf.initialize_all_variables()\n",
    "sess=tf.Session()\n",
    "sess.run(init)\n",
    "for i in range(100000):\n",
    "    sess.run(train_step,feed_dict={X_:XOR_X,Y_:XOR_Y})\n",
    "    if(i%10000==0):\n",
    "        print('Epoch',i)\n",
    "        print('Prediction',sess.run(pred,feed_dict={X_:XOR_X,Y_:XOR_Y}))\n",
    "        print('Weight from input to hidden layer:',sess.run(w1))\n",
    "        print('Bias in the hidden layer:',sess.run(b1))\n",
    "        print('Weight from hidden to output layer',sess.run(w2))\n",
    "        print('Bias in the output layer',sess.run(b2))\n",
    "        print('Cost',sess.run(cost,feed_dict={X_:XOR_X,Y_:XOR_Y}))\n",
    "print('Final Prediction',sess.run(pred,feed_dict={X_:XOR_X,Y_:XOR_Y}))"
   ]
  },
  {
   "cell_type": "code",
   "execution_count": 64,
   "metadata": {},
   "outputs": [
    {
     "name": "stdout",
     "output_type": "stream",
     "text": [
      "Epoch 0\n",
      "Prediction [[0.33523998]\n",
      " [0.32722583]\n",
      " [0.34532282]\n",
      " [0.3337777 ]]\n",
      "Weight from input to hidden layer: [[-0.91993254  0.35277775]\n",
      " [-0.6715703   0.62016857]]\n",
      "Bias in the hidden layer: [-0.0002096  -0.00033556]\n",
      "Weight from hidden to output layer [[-0.5449369]\n",
      " [-0.8277217]]\n",
      "Bias in the output layer [0.00165182]\n",
      "Cost 0.74871033\n",
      "Epoch 10000\n",
      "Prediction [[0.4075511 ]\n",
      " [0.51224875]\n",
      " [0.52471954]\n",
      " [0.5444505 ]]\n",
      "Weight from input to hidden layer: [[-1.7742009   0.25375876]\n",
      " [-1.7084173   0.5351718 ]]\n",
      "Bias in the hidden layer: [-0.18927172 -0.2023458 ]\n",
      "Weight from hidden to output layer [[-1.5414602]\n",
      " [-0.5565537]]\n",
      "Bias in the output layer [0.57412845]\n",
      "Cost 0.65589446\n",
      "Epoch 20000\n",
      "Prediction [[0.18182543]\n",
      " [0.58804154]\n",
      " [0.60509956]\n",
      " [0.5908796 ]]\n",
      "Weight from input to hidden layer: [[-3.478737    0.60759497]\n",
      " [-3.4965231   0.8741699 ]]\n",
      "Bias in the hidden layer: [ 0.49542657 -0.62226766]\n",
      "Weight from hidden to output layer [[-3.6541462]\n",
      " [-1.1135315]]\n",
      "Bias in the output layer [1.1555177]\n",
      "Cost 0.53193635\n",
      "Epoch 30000\n",
      "Prediction [[0.10784213]\n",
      " [0.72615355]\n",
      " [0.73000973]\n",
      " [0.3892345 ]]\n",
      "Weight from input to hidden layer: [[-4.72328    1.8915596]\n",
      " [-4.7587914  1.9245794]]\n",
      "Bias in the hidden layer: [ 1.1549753 -2.777541 ]\n",
      "Weight from hidden to output layer [[-5.3741403]\n",
      " [-3.5628633]]\n",
      "Bias in the output layer [2.1822262]\n",
      "Cost 0.3104614\n",
      "Epoch 40000\n",
      "Prediction [[0.06300616]\n",
      " [0.8868593 ]\n",
      " [0.88674897]\n",
      " [0.1331567 ]]\n",
      "Weight from input to hidden layer: [[-5.4087     3.1825917]\n",
      " [-5.428435   3.1852973]]\n",
      "Bias in the hidden layer: [ 1.7509183 -4.891241 ]\n",
      "Weight from hidden to output layer [[-6.8485336]\n",
      " [-6.2093625]]\n",
      "Bias in the output layer [3.1822734]\n",
      "Cost 0.11205948\n",
      "Epoch 50000\n",
      "Prediction [[0.03929874]\n",
      " [0.9388891 ]\n",
      " [0.9388252 ]\n",
      " [0.06487454]]\n",
      "Weight from input to hidden layer: [[-5.769127   3.7884424]\n",
      " [-5.7828403  3.790259 ]]\n",
      "Bias in the hidden layer: [ 2.0564542 -5.8617015]\n",
      "Weight from hidden to output layer [[-7.827841 ]\n",
      " [-7.5882215]]\n",
      "Bias in the output layer [3.765216]\n",
      "Cost 0.058337573\n",
      "Epoch 60000\n",
      "Prediction [[0.02778208]\n",
      " [0.9594415 ]\n",
      " [0.9594043 ]\n",
      " [0.04078988]]\n",
      "Weight from input to hidden layer: [[-5.9980516  4.1350784]\n",
      " [-6.0089083  4.136585 ]]\n",
      "Bias in the hidden layer: [ 2.2310293 -6.4099255]\n",
      "Weight from hidden to output layer [[-8.507604]\n",
      " [-8.432396]]\n",
      "Bias in the output layer [4.1410403]\n",
      "Cost 0.038166784\n",
      "Epoch 70000\n",
      "Prediction [[0.02127867]\n",
      " [0.9699746 ]\n",
      " [0.9699505 ]\n",
      " [0.02921826]]\n",
      "Weight from input to hidden layer: [[-6.162375   4.3690677]\n",
      " [-6.1715393  4.3703933]]\n",
      "Bias in the hidden layer: [ 2.3473408 -6.7767982]\n",
      "Weight from hidden to output layer [[-9.020127]\n",
      " [-9.029789]]\n",
      "Bias in the output layer [4.4146137]\n",
      "Cost 0.0280394\n",
      "Epoch 80000\n",
      "Prediction [[0.01716808]\n",
      " [0.9762864 ]\n",
      " [0.976269  ]\n",
      " [0.02257663]]\n",
      "Weight from input to hidden layer: [[-6.28926    4.542629 ]\n",
      " [-6.2973213  4.543816 ]]\n",
      "Bias in the hidden layer: [ 2.4326928 -7.0473943]\n",
      "Weight from hidden to output layer [[-9.429031]\n",
      " [-9.489299]]\n",
      "Bias in the output layer [4.6288414]\n",
      "Cost 0.022042241\n",
      "Epoch 90000\n",
      "Prediction [[0.0143525 ]\n",
      " [0.9804582 ]\n",
      " [0.98044544]\n",
      " [0.01830713]]\n",
      "Weight from input to hidden layer: [[-6.3920217  4.679308 ]\n",
      " [-6.3992033  4.6803946]]\n",
      "Bias in the hidden layer: [ 2.4992914 -7.2593923]\n",
      "Weight from hidden to output layer [[-9.768524]\n",
      " [-9.861828]]\n",
      "Bias in the output layer [4.804574]\n",
      "Cost 0.018104209\n",
      "Final Prediction [[0.01231086]\n",
      " [0.98340833]\n",
      " [0.98339796]\n",
      " [0.01535315]]\n"
     ]
    }
   ],
   "source": [
    "#XOR implementation in TensorFlow with linear Activation\n",
    "X_=tf.placeholder(tf.float32,shape=[4,2],name=\"x-input\")\n",
    "Y_=tf.placeholder(tf.float32,shape=[4,1],name=\"y-input\")\n",
    "#Random weights\n",
    "w1=tf.Variable(tf.random_uniform([2,2],-1,1),name=\"weights1\")\n",
    "w2=tf.Variable(tf.random_uniform([2,1],-1,1),name=\"weights2\")\n",
    "#Bias to hidden and output layer respectively\n",
    "b1=tf.Variable(tf.zeros([2]),name=\"Bias1\")\n",
    "b2=tf.Variable(tf.zeros([1]),name=\"Bias2\")\n",
    "#Define the final output through final pass\n",
    "z2=tf.sigmoid(tf.matmul(X_,w1)+b1)\n",
    "pred=tf.sigmoid(tf.matmul(z2,w2)+b2)\n",
    "\n",
    "#Define the CRoss-entropy\n",
    "cost=tf.reduce_mean(((Y_*tf.log(pred))+((1-Y_)*tf.log(1-pred)))*-1)\n",
    "learning_rate=0.01\n",
    "train_step=tf.train.GradientDescentOptimizer(learning_rate).minimize(cost)\n",
    "XOR_X=[[0,0],[0,1],[1,0],[1,1]]\n",
    "XOR_Y=[[0],[1],[1],[0]]\n",
    "\n",
    "init=tf.initialize_all_variables()\n",
    "sess=tf.Session()\n",
    "sess.run(init)\n",
    "for i in range(100000):\n",
    "    sess.run(train_step,feed_dict={X_:XOR_X,Y_:XOR_Y})\n",
    "    if(i%10000==0):\n",
    "        print('Epoch',i)\n",
    "        print('Prediction',sess.run(pred,feed_dict={X_:XOR_X,Y_:XOR_Y}))\n",
    "        print('Weight from input to hidden layer:',sess.run(w1))\n",
    "        print('Bias in the hidden layer:',sess.run(b1))\n",
    "        print('Weight from hidden to output layer',sess.run(w2))\n",
    "        print('Bias in the output layer',sess.run(b2))\n",
    "        print('Cost',sess.run(cost,feed_dict={X_:XOR_X,Y_:XOR_Y}))\n",
    "print('Final Prediction',sess.run(pred,feed_dict={X_:XOR_X,Y_:XOR_Y}))"
   ]
  },
  {
   "cell_type": "code",
   "execution_count": 65,
   "metadata": {},
   "outputs": [
    {
     "name": "stdout",
     "output_type": "stream",
     "text": [
      "Epoch 0\n",
      "Prediction [[nan]\n",
      " [nan]\n",
      " [nan]\n",
      " [nan]]\n",
      "Weight from input to hidden layer: [[nan nan]\n",
      " [nan nan]]\n",
      "Bias in the hidden layer: [nan nan]\n",
      "Weight from hidden to output layer [[nan]\n",
      " [nan]]\n",
      "Bias in the output layer [nan]\n",
      "Cost nan\n",
      "Epoch 10000\n",
      "Prediction [[nan]\n",
      " [nan]\n",
      " [nan]\n",
      " [nan]]\n",
      "Weight from input to hidden layer: [[nan nan]\n",
      " [nan nan]]\n",
      "Bias in the hidden layer: [nan nan]\n",
      "Weight from hidden to output layer [[nan]\n",
      " [nan]]\n",
      "Bias in the output layer [nan]\n",
      "Cost nan\n",
      "Epoch 20000\n",
      "Prediction [[nan]\n",
      " [nan]\n",
      " [nan]\n",
      " [nan]]\n",
      "Weight from input to hidden layer: [[nan nan]\n",
      " [nan nan]]\n",
      "Bias in the hidden layer: [nan nan]\n",
      "Weight from hidden to output layer [[nan]\n",
      " [nan]]\n",
      "Bias in the output layer [nan]\n",
      "Cost nan\n",
      "Epoch 30000\n",
      "Prediction [[nan]\n",
      " [nan]\n",
      " [nan]\n",
      " [nan]]\n",
      "Weight from input to hidden layer: [[nan nan]\n",
      " [nan nan]]\n",
      "Bias in the hidden layer: [nan nan]\n",
      "Weight from hidden to output layer [[nan]\n",
      " [nan]]\n",
      "Bias in the output layer [nan]\n",
      "Cost nan\n",
      "Epoch 40000\n",
      "Prediction [[nan]\n",
      " [nan]\n",
      " [nan]\n",
      " [nan]]\n",
      "Weight from input to hidden layer: [[nan nan]\n",
      " [nan nan]]\n",
      "Bias in the hidden layer: [nan nan]\n",
      "Weight from hidden to output layer [[nan]\n",
      " [nan]]\n",
      "Bias in the output layer [nan]\n",
      "Cost nan\n",
      "Epoch 50000\n",
      "Prediction [[nan]\n",
      " [nan]\n",
      " [nan]\n",
      " [nan]]\n",
      "Weight from input to hidden layer: [[nan nan]\n",
      " [nan nan]]\n",
      "Bias in the hidden layer: [nan nan]\n",
      "Weight from hidden to output layer [[nan]\n",
      " [nan]]\n",
      "Bias in the output layer [nan]\n",
      "Cost nan\n",
      "Epoch 60000\n",
      "Prediction [[nan]\n",
      " [nan]\n",
      " [nan]\n",
      " [nan]]\n",
      "Weight from input to hidden layer: [[nan nan]\n",
      " [nan nan]]\n",
      "Bias in the hidden layer: [nan nan]\n",
      "Weight from hidden to output layer [[nan]\n",
      " [nan]]\n",
      "Bias in the output layer [nan]\n",
      "Cost nan\n",
      "Epoch 70000\n",
      "Prediction [[nan]\n",
      " [nan]\n",
      " [nan]\n",
      " [nan]]\n",
      "Weight from input to hidden layer: [[nan nan]\n",
      " [nan nan]]\n",
      "Bias in the hidden layer: [nan nan]\n",
      "Weight from hidden to output layer [[nan]\n",
      " [nan]]\n",
      "Bias in the output layer [nan]\n",
      "Cost nan\n",
      "Epoch 80000\n",
      "Prediction [[nan]\n",
      " [nan]\n",
      " [nan]\n",
      " [nan]]\n",
      "Weight from input to hidden layer: [[nan nan]\n",
      " [nan nan]]\n",
      "Bias in the hidden layer: [nan nan]\n",
      "Weight from hidden to output layer [[nan]\n",
      " [nan]]\n",
      "Bias in the output layer [nan]\n",
      "Cost nan\n",
      "Epoch 90000\n",
      "Prediction [[nan]\n",
      " [nan]\n",
      " [nan]\n",
      " [nan]]\n",
      "Weight from input to hidden layer: [[nan nan]\n",
      " [nan nan]]\n",
      "Bias in the hidden layer: [nan nan]\n",
      "Weight from hidden to output layer [[nan]\n",
      " [nan]]\n",
      "Bias in the output layer [nan]\n",
      "Cost nan\n",
      "Final Prediction [[nan]\n",
      " [nan]\n",
      " [nan]\n",
      " [nan]]\n"
     ]
    }
   ],
   "source": [
    "#XOR implementation in TensorFlow with linear Activation\n",
    "X_=tf.placeholder(tf.float32,shape=[4,2],name=\"x-input\")\n",
    "Y_=tf.placeholder(tf.float32,shape=[4,1],name=\"y-input\")\n",
    "#Random weights\n",
    "w1=tf.Variable(tf.random_uniform([2,2],-1,1),name=\"weights1\")\n",
    "w2=tf.Variable(tf.random_uniform([2,1],-1,1),name=\"weights2\")\n",
    "#Bias to hidden and output layer respectively\n",
    "b1=tf.Variable(tf.zeros([2]),name=\"Bias1\")\n",
    "b2=tf.Variable(tf.zeros([1]),name=\"Bias2\")\n",
    "#Define the final output through final pass\n",
    "z2=tf.matmul(X_,w1)+b1\n",
    "pred=tf.matmul(z2,w2)+b2\n",
    "\n",
    "#Define the CRoss-entropy\n",
    "cost=tf.reduce_mean(((Y_*tf.log(pred))+((1-Y_)*tf.log(1-pred)))*-1)\n",
    "learning_rate=0.01\n",
    "train_step=tf.train.GradientDescentOptimizer(learning_rate).minimize(cost)\n",
    "XOR_X=[[0,0],[0,1],[1,0],[1,1]]\n",
    "XOR_Y=[[0],[1],[1],[0]]\n",
    "\n",
    "init=tf.initialize_all_variables()\n",
    "sess=tf.Session()\n",
    "sess.run(init)\n",
    "for i in range(100000):\n",
    "    sess.run(train_step,feed_dict={X_:XOR_X,Y_:XOR_Y})\n",
    "    if(i%10000==0):\n",
    "        print('Epoch',i)\n",
    "        print('Prediction',sess.run(pred,feed_dict={X_:XOR_X,Y_:XOR_Y}))\n",
    "        print('Weight from input to hidden layer:',sess.run(w1))\n",
    "        print('Bias in the hidden layer:',sess.run(b1))\n",
    "        print('Weight from hidden to output layer',sess.run(w2))\n",
    "        print('Bias in the output layer',sess.run(b2))\n",
    "        print('Cost',sess.run(cost,feed_dict={X_:XOR_X,Y_:XOR_Y}))\n",
    "print('Final Prediction',sess.run(pred,feed_dict={X_:XOR_X,Y_:XOR_Y}))"
   ]
  },
  {
   "cell_type": "code",
   "execution_count": 66,
   "metadata": {},
   "outputs": [
    {
     "name": "stdout",
     "output_type": "stream",
     "text": [
      "Epoch 0\n",
      "Prediction [[-0.8600207]\n",
      " [-0.8972149]\n",
      " [-0.9892044]\n",
      " [-1.0290135]]\n",
      "Weight from input to hidden layer: [[ 0.6115816   0.01284598]\n",
      " [-0.22519115  0.40570605]]\n",
      "Bias in the hidden layer: [0.0016296  0.00165312]\n",
      "Weight from hidden to output layer [[-0.852893  ]\n",
      " [-0.84977627]]\n",
      "Bias in the output layer [-0.00798739]\n",
      "Cost nan\n",
      "Epoch 10000\n",
      "Prediction [[-23.061796]\n",
      " [-23.728092]\n",
      " [-23.77331 ]\n",
      " [-23.98857 ]]\n",
      "Weight from input to hidden layer: [[1.4309033  1.0349367 ]\n",
      " [0.89365345 1.3009307 ]]\n",
      "Bias in the hidden layer: [2.6600134 2.6513956]\n",
      "Weight from hidden to output layer [[-7.8603544]\n",
      " [-7.887148 ]]\n",
      "Bias in the output layer [-8.347948]\n",
      "Cost nan\n",
      "Epoch 20000\n",
      "Prediction [[-33.407806]\n",
      " [-33.972115]\n",
      " [-33.99873 ]\n",
      " [-34.15053 ]]\n",
      "Weight from input to hidden layer: [[1.5540777 1.1993396]\n",
      " [1.0744843 1.437001 ]]\n",
      "Bias in the hidden layer: [3.2989016 3.2906084]\n",
      "Weight from hidden to output layer [[-11.2082615]\n",
      " [-11.235221 ]]\n",
      "Bias in the output layer [-11.766725]\n",
      "Cost nan\n",
      "Epoch 30000\n",
      "Prediction [[-41.29938 ]\n",
      " [-41.79783 ]\n",
      " [-41.81734 ]\n",
      " [-41.939606]]\n",
      "Weight from input to hidden layer: [[1.6206584 1.287055 ]\n",
      " [1.1703897 1.5102284]]\n",
      "Bias in the hidden layer: [3.6780028 3.6703784]\n",
      "Weight from hidden to output layer [[-13.788564]\n",
      " [-13.815535]]\n",
      "Bias in the output layer [-14.378277]\n",
      "Cost nan\n",
      "Epoch 40000\n",
      "Prediction [[-47.931374]\n",
      " [-48.38401 ]\n",
      " [-48.399685]\n",
      " [-48.504234]]\n",
      "Weight from input to hidden layer: [[1.6656883 1.3458335]\n",
      " [1.2344545 1.5596064]]\n",
      "Bias in the hidden layer: [3.9485493 3.941478 ]\n",
      "Weight from hidden to output layer [[-15.967635]\n",
      " [-15.9946  ]]\n",
      "Bias in the output layer [-16.575901]\n",
      "Cost nan\n",
      "Epoch 50000\n",
      "Prediction [[-53.76287 ]\n",
      " [-54.181293]\n",
      " [-54.19454 ]\n",
      " [-54.28703 ]]\n",
      "Weight from input to hidden layer: [[1.699448  1.389615 ]\n",
      " [1.2820325 1.5965438]]\n",
      "Bias in the hidden layer: [4.1591415 4.1524734]\n",
      "Weight from hidden to output layer [[-17.889233]\n",
      " [-17.91623 ]]\n",
      "Bias in the output layer [-18.509937]\n",
      "Cost nan\n",
      "Epoch 60000\n",
      "Prediction [[-59.027832]\n",
      " [-59.419426]\n",
      " [-59.43097 ]\n",
      " [-59.514595]]\n",
      "Weight from input to hidden layer: [[1.7263418 1.4242622]\n",
      " [1.3196536 1.6258777]]\n",
      "Bias in the hidden layer: [4.3315287 4.3252616]\n",
      "Weight from hidden to output layer [[-19.627262]\n",
      " [-19.654257]]\n",
      "Bias in the output layer [-20.257647]\n",
      "Cost nan\n",
      "Epoch 70000\n",
      "Prediction [[-63.86497 ]\n",
      " [-64.234695]\n",
      " [-64.244995]\n",
      " [-64.32176 ]]\n",
      "Weight from input to hidden layer: [[1.748567  1.4528129]\n",
      " [1.3505868 1.6501402]]\n",
      "Bias in the hidden layer: [4.4776554 4.471724 ]\n",
      "Weight from hidden to output layer [[-21.226395]\n",
      " [-21.253384]]\n",
      "Bias in the output layer [-21.86375]\n",
      "Cost nan\n",
      "Epoch 80000\n",
      "Prediction [[-68.364624]\n",
      " [-68.71617 ]\n",
      " [-68.72548 ]\n",
      " [-68.79677 ]]\n",
      "Weight from input to hidden layer: [[1.7675099 1.4770284]\n",
      " [1.3768075 1.6707226]]\n",
      "Bias in the hidden layer: [4.6042385 4.598534 ]\n",
      "Weight from hidden to output layer [[-22.715494]\n",
      " [-22.742477]]\n",
      "Bias in the output layer [-23.358421]\n",
      "Cost nan\n",
      "Epoch 90000\n",
      "Prediction [[-72.58771]\n",
      " [-72.92371]\n",
      " [-72.93225]\n",
      " [-72.99901]]\n",
      "Weight from input to hidden layer: [[1.7839342 1.49804  ]\n",
      " [1.3994591 1.6886016]]\n",
      "Bias in the hidden layer: [4.7160993 4.7106447]\n",
      "Weight from hidden to output layer [[-24.113815]\n",
      " [-24.14079 ]]\n",
      "Bias in the output layer [-24.762312]\n",
      "Cost nan\n",
      "Final Prediction [[-76.58011 ]\n",
      " [-76.902664]\n",
      " [-76.91056 ]\n",
      " [-76.97351 ]]\n"
     ]
    }
   ],
   "source": [
    "#XOR implementation in TensorFlow with linear Activation\n",
    "X_=tf.placeholder(tf.float32,shape=[4,2],name=\"x-input\")\n",
    "Y_=tf.placeholder(tf.float32,shape=[4,1],name=\"y-input\")\n",
    "#Random weights\n",
    "w1=tf.Variable(tf.random_uniform([2,2],-1,1),name=\"weights1\")\n",
    "w2=tf.Variable(tf.random_uniform([2,1],-1,1),name=\"weights2\")\n",
    "#Bias to hidden and output layer respectively\n",
    "b1=tf.Variable(tf.zeros([2]),name=\"Bias1\")\n",
    "b2=tf.Variable(tf.zeros([1]),name=\"Bias2\")\n",
    "#Define the final output through final pass\n",
    "z2=tf.sigmoid(tf.matmul(X_,w1)+b1)\n",
    "pred=tf.matmul(z2,w2)+b2\n",
    "\n",
    "#Define the CRoss-entropy\n",
    "cost=tf.reduce_mean(((Y_*tf.log(pred))+((1-Y_)*tf.log(1-pred)))*-1)\n",
    "learning_rate=0.01\n",
    "train_step=tf.train.GradientDescentOptimizer(learning_rate).minimize(cost)\n",
    "XOR_X=[[0,0],[0,1],[1,0],[1,1]]\n",
    "XOR_Y=[[0],[1],[1],[0]]\n",
    "\n",
    "init=tf.initialize_all_variables()\n",
    "sess=tf.Session()\n",
    "sess.run(init)\n",
    "for i in range(100000):\n",
    "    sess.run(train_step,feed_dict={X_:XOR_X,Y_:XOR_Y})\n",
    "    if(i%10000==0):\n",
    "        print('Epoch',i)\n",
    "        print('Prediction',sess.run(pred,feed_dict={X_:XOR_X,Y_:XOR_Y}))\n",
    "        print('Weight from input to hidden layer:',sess.run(w1))\n",
    "        print('Bias in the hidden layer:',sess.run(b1))\n",
    "        print('Weight from hidden to output layer',sess.run(w2))\n",
    "        print('Bias in the output layer',sess.run(b2))\n",
    "        print('Cost',sess.run(cost,feed_dict={X_:XOR_X,Y_:XOR_Y}))\n",
    "print('Final Prediction',sess.run(pred,feed_dict={X_:XOR_X,Y_:XOR_Y}))"
   ]
  },
  {
   "cell_type": "markdown",
   "metadata": {},
   "source": [
    "# HOME ASSIGNMENT"
   ]
  },
  {
   "cell_type": "markdown",
   "metadata": {},
   "source": [
    "# Implementing AND and OR Function in TensorFlow"
   ]
  },
  {
   "cell_type": "markdown",
   "metadata": {},
   "source": [
    "## OR FUNCTION WITH TWO INPUTS"
   ]
  },
  {
   "cell_type": "code",
   "execution_count": 49,
   "metadata": {},
   "outputs": [
    {
     "name": "stdout",
     "output_type": "stream",
     "text": [
      "Epoch 0\n",
      "Prediction [[0.50096977]\n",
      " [0.41875285]\n",
      " [0.46882737]\n",
      " [0.38778633]]\n",
      "Weight from input to hidden layer: [[0.13077278 0.3238582 ]\n",
      " [0.29143375 0.9353435 ]]\n",
      "Bias in the hidden layer: [-0.00143138 -0.00065808]\n",
      "Weight from hidden to output layer [[-0.46396014]\n",
      " [-0.21014829]]\n",
      "Bias in the output layer [0.00307682]\n",
      "Cost 0.8175961\n",
      "Final Prediction [[0.01010965]\n",
      " [0.99610883]\n",
      " [0.99591905]\n",
      " [0.9999999 ]]\n"
     ]
    }
   ],
   "source": [
    "#OR implementation in TensorFlow with linear Activation\n",
    "X_=tf.placeholder(tf.float32,shape=[4,2],name=\"x-input\")\n",
    "Y_=tf.placeholder(tf.float32,shape=[4,1],name=\"y-input\")\n",
    "#Random weights\n",
    "w1=tf.Variable(tf.random_uniform([2,2],-1,1),name=\"weights1\")\n",
    "w2=tf.Variable(tf.random_uniform([2,1],-1,1),name=\"weights2\")\n",
    "#Bias to hidden and output layer respectively\n",
    "b1=tf.Variable(tf.zeros([2]),name=\"Bias1\")\n",
    "b2=tf.Variable(tf.zeros([1]),name=\"Bias2\")\n",
    "#Define the final output through final pass\n",
    "z2=(tf.matmul(X_,w1)+b1)\n",
    "pred=tf.sigmoid((tf.matmul(z2,w2)+b2))\n",
    "\n",
    "#Define the Cross-entropy\n",
    "cost=tf.reduce_mean(((Y_*tf.log(pred))+((1-Y_)*tf.log(1-pred)))*-1)\n",
    "learning_rate=0.01\n",
    "train_step=tf.train.GradientDescentOptimizer(learning_rate).minimize(cost)\n",
    "OR_X=[[0,0],[0,1],[1,0],[1,1]]\n",
    "OR_Y=[[0],[1],[1],[1]]\n",
    "\n",
    "init=tf.initialize_all_variables()\n",
    "sess=tf.Session()\n",
    "sess.run(init)\n",
    "for i in range(10000):\n",
    "    sess.run(train_step,feed_dict={X_:OR_X,Y_:OR_Y})\n",
    "    if(i%10000==0):\n",
    "        print('Epoch',i)\n",
    "        print('Prediction',sess.run(pred,feed_dict={X_:OR_X,Y_:OR_Y}))\n",
    "        print('Weight from input to hidden layer:',sess.run(w1))\n",
    "        print('Bias in the hidden layer:',sess.run(b1))\n",
    "        print('Weight from hidden to output layer',sess.run(w2))\n",
    "        print('Bias in the output layer',sess.run(b2))\n",
    "        print('Cost',sess.run(cost,feed_dict={X_:OR_X,Y_:OR_Y}))\n",
    "\n",
    "print('Final Prediction',sess.run(pred,feed_dict={X_:OR_X,Y_:OR_Y}))\n"
   ]
  },
  {
   "cell_type": "markdown",
   "metadata": {},
   "source": [
    "## AND FUNCTION WITH THREE INPUTS"
   ]
  },
  {
   "cell_type": "code",
   "execution_count": 47,
   "metadata": {},
   "outputs": [
    {
     "name": "stdout",
     "output_type": "stream",
     "text": [
      "Epoch 0\n",
      "Prediction [[0.49848515]\n",
      " [0.4117461 ]\n",
      " [0.5546795 ]\n",
      " [0.46727288]\n",
      " [0.5034611 ]\n",
      " [0.4165755 ]\n",
      " [0.5595905 ]\n",
      " [0.4722307 ]]\n",
      "Weight from input to hidden layer: [[ 0.66171706  0.37585205]\n",
      " [-0.40418205  0.09836131]\n",
      " [ 0.8863516  -0.01691118]]\n",
      "Bias in the hidden layer: [ 0.00137999 -0.00263073]\n",
      "Weight from hidden to output layer [[-0.38182193]\n",
      " [ 0.7251853 ]]\n",
      "Bias in the output layer [-0.00362482]\n",
      "Cost 0.6835872\n",
      "Epoch 10000\n",
      "Prediction [[1.0028595e-07]\n",
      " [5.3218355e-05]\n",
      " [5.3152675e-05]\n",
      " [2.7435387e-02]\n",
      " [5.3229673e-05]\n",
      " [2.7474055e-02]\n",
      " [2.7441073e-02]\n",
      " [9.3739730e-01]]\n",
      "Weight from input to hidden layer: [[ 0.4734074   1.5434515 ]\n",
      " [-0.58992654  1.4160244 ]\n",
      " [ 0.58994836  1.5573295 ]]\n",
      "Bias in the hidden layer: [ 0.75863177 -3.2590213 ]\n",
      "Weight from hidden to output layer [[-0.50433546]\n",
      " [ 4.219864  ]]\n",
      "Bias in the output layer [-1.9800092]\n",
      "Cost 0.018538712\n",
      "Epoch 20000\n",
      "Prediction [[2.9461139e-10]\n",
      " [1.6186513e-06]\n",
      " [1.6175957e-06]\n",
      " [8.8091353e-03]\n",
      " [1.6185617e-06]\n",
      " [8.8143414e-03]\n",
      " [8.8086361e-03]\n",
      " [9.7993040e-01]]\n",
      "Weight from input to hidden layer: [[ 0.44450712  1.7858323 ]\n",
      " [-0.6189197   1.6591824 ]\n",
      " [ 0.5610479   1.7997102 ]]\n",
      "Bias in the hidden layer: [ 0.8339632 -3.8908327]\n",
      "Weight from hidden to output layer [[-0.5912547]\n",
      " [ 4.9692287]]\n",
      "Bias in the output layer [-2.1178412]\n",
      "Cost 0.005853473\n",
      "Epoch 30000\n",
      "Prediction [[1.3401275e-11]\n",
      " [2.5370636e-07]\n",
      " [2.5357863e-07]\n",
      " [4.7776974e-03]\n",
      " [2.5369184e-07]\n",
      " [4.7798227e-03]\n",
      " [4.7774259e-03]\n",
      " [9.8911601e-01]]\n",
      "Weight from input to hidden layer: [[ 0.43084598  1.900704  ]\n",
      " [-0.6326068   1.7742847 ]\n",
      " [ 0.54738647  1.9145594 ]]\n",
      "Bias in the hidden layer: [ 0.8695081 -4.1896877]\n",
      "Weight from hidden to output layer [[-0.63258415]\n",
      " [ 5.324908  ]]\n",
      "Bias in the output layer [-2.1759334]\n",
      "Cost 0.0031642048\n",
      "Epoch 40000\n",
      "Prediction [[1.6832537e-12]\n",
      " [7.3097134e-08]\n",
      " [7.3066047e-08]\n",
      " [3.1629377e-03]\n",
      " [7.3093787e-08]\n",
      " [3.1641347e-03]\n",
      " [3.1627933e-03]\n",
      " [9.9279445e-01]]\n",
      "Weight from input to hidden layer: [[ 0.42216274  1.9737679 ]\n",
      " [-0.6412929   1.8474761 ]\n",
      " [ 0.5387139   1.9876097 ]]\n",
      "Bias in the hidden layer: [ 0.89207006 -4.379474  ]\n",
      "Weight from hidden to output layer [[-0.6588904]\n",
      " [ 5.5512757]]\n",
      "Bias in the output layer [-2.2108483]\n",
      "Cost 0.0020920855\n",
      "Epoch 50000\n",
      "Prediction [[3.5613469e-13]\n",
      " [2.8786660e-08]\n",
      " [2.8786770e-08]\n",
      " [2.3214535e-03]\n",
      " [2.8786385e-08]\n",
      " [2.3214270e-03]\n",
      " [2.3214323e-03]\n",
      " [9.9471128e-01]]\n",
      "Weight from input to hidden layer: [[ 0.41589665  2.0265884 ]\n",
      " [-0.6475889   1.9004378 ]\n",
      " [ 0.5324228   2.0404127 ]]\n",
      "Bias in the hidden layer: [ 0.9083729 -4.5165696]\n",
      "Weight from hidden to output layer [[-0.6779311]\n",
      " [ 5.7150493]]\n",
      "Bias in the output layer [-2.235235]\n",
      "Cost 0.0015343971\n",
      "Epoch 60000\n",
      "Prediction [[1.03316031e-13]\n",
      " [1.36993572e-08]\n",
      " [1.37074325e-08]\n",
      " [1.81425642e-03]\n",
      " [1.36990952e-08]\n",
      " [1.81316177e-03]\n",
      " [1.81422709e-03]\n",
      " [9.95867729e-01]]\n",
      "Weight from input to hidden layer: [[ 0.4110092  2.0675883]\n",
      " [-0.6524818  1.9415916]\n",
      " [ 0.5275243  2.0814068]]\n",
      "Bias in the hidden layer: [ 0.92100537 -4.6229396 ]\n",
      "Weight from hidden to output layer [[-0.69275266]\n",
      " [ 5.8424473 ]]\n",
      "Bias in the output layer [-2.2536743]\n",
      "Cost 0.0011984298\n",
      "Epoch 70000\n",
      "Prediction [[3.6937884e-14]\n",
      " [7.3879374e-09]\n",
      " [7.3927864e-09]\n",
      " [1.4764491e-03]\n",
      " [7.3879236e-09]\n",
      " [1.4754793e-03]\n",
      " [1.4764519e-03]\n",
      " [9.9663001e-01]]\n",
      "Weight from input to hidden layer: [[ 0.40700457  2.1009974 ]\n",
      " [-0.6564048   1.9750712 ]\n",
      " [ 0.52358425  2.1148148 ]]\n",
      "Bias in the hidden layer: [ 0.9312873 -4.7096596]\n",
      "Weight from hidden to output layer [[-0.70475453]\n",
      " [ 5.946204  ]]\n",
      "Bias in the output layer [-2.268613]\n",
      "Cost 0.0009759171\n",
      "Epoch 80000\n",
      "Prediction [[1.5406931e-14]\n",
      " [4.3721431e-09]\n",
      " [4.3818775e-09]\n",
      " [1.2419334e-03]\n",
      " [4.3722683e-09]\n",
      " [1.2392109e-03]\n",
      " [1.2419684e-03]\n",
      " [9.9717414e-01]]\n",
      "Weight from input to hidden layer: [[ 0.40362725  2.128895  ]\n",
      " [-0.6596894   2.003274  ]\n",
      " [ 0.52028894  2.1427126 ]]\n",
      "Bias in the hidden layer: [ 0.94000846 -4.7819004 ]\n",
      "Weight from hidden to output layer [[-0.7148578]\n",
      " [ 6.0334167]]\n",
      "Bias in the output layer [-2.280789]\n",
      "Cost 0.00081941416\n",
      "Epoch 90000\n",
      "Prediction [[7.1581137e-15]\n",
      " [2.7620608e-09]\n",
      " [2.7620080e-09]\n",
      " [1.0646249e-03]\n",
      " [2.7620080e-09]\n",
      " [1.0646258e-03]\n",
      " [1.0646076e-03]\n",
      " [9.9757415e-01]]\n",
      "Weight from input to hidden layer: [[ 0.4007493  2.1532352]\n",
      " [-0.6626606  2.0272663]\n",
      " [ 0.5173389  2.167049 ]]\n",
      "Bias in the hidden layer: [ 0.9474392 -4.844662 ]\n",
      "Weight from hidden to output layer [[-0.7236068]\n",
      " [ 6.1085796]]\n",
      "Bias in the output layer [-2.290952]\n",
      "Cost 0.00070303667\n",
      "Final Prediction [[3.6486084e-15]\n",
      " [1.8428759e-09]\n",
      " [1.8428759e-09]\n",
      " [9.2995190e-04]\n",
      " [1.8428759e-09]\n",
      " [9.2995365e-04]\n",
      " [9.2995365e-04]\n",
      " [9.9787748e-01]]\n"
     ]
    }
   ],
   "source": [
    "#AND implementation in TensorFlow with linear Activation for \n",
    "X_=tf.placeholder(tf.float32,shape=[8,3],name=\"x-input\")\n",
    "Y_=tf.placeholder(tf.float32,shape=[8,1],name=\"y-input\")\n",
    "#Random weights\n",
    "w1=tf.Variable(tf.random_uniform([3,2],-1,1),name=\"weights1\")\n",
    "w2=tf.Variable(tf.random_uniform([2,1],-1,1),name=\"weights2\")\n",
    "#Bias to hidden and output layer respectively\n",
    "b1=tf.Variable(tf.zeros([2]),name=\"Bias1\")\n",
    "b2=tf.Variable(tf.zeros([1]),name=\"Bias2\")\n",
    "#Define the final output through final pass\n",
    "z2=(tf.matmul(X_,w1)+b1)\n",
    "pred=tf.sigmoid((tf.matmul(z2,w2)+b2))\n",
    "\n",
    "#Define the Cross-entropy\n",
    "cost=tf.reduce_mean(((Y_*tf.log(pred))+((1-Y_)*tf.log(1-pred)))*-1)\n",
    "learning_rate=0.01\n",
    "train_step=tf.train.GradientDescentOptimizer(learning_rate).minimize(cost)\n",
    "AND_X=[[0,0,0],[0,0,1],[0,1,0],[0,1,1],[1,0,0],[1,0,1],[1,1,0],[1,1,1]]\n",
    "AND_Y=[[0],[0],[0],[0],[0],[0],[0],[1]]\n",
    "\n",
    "init=tf.initialize_all_variables()\n",
    "sess=tf.Session()\n",
    "sess.run(init)\n",
    "for i in range(100000):\n",
    "    sess.run(train_step,feed_dict={X_:AND_X,Y_:AND_Y})\n",
    "    if(i%10000==0):\n",
    "        print('Epoch',i)\n",
    "        print('Prediction',sess.run(pred,feed_dict={X_:AND_X,Y_:AND_Y}))\n",
    "        print('Weight from input to hidden layer:',sess.run(w1))\n",
    "        print('Bias in the hidden layer:',sess.run(b1))\n",
    "        print('Weight from hidden to output layer',sess.run(w2))\n",
    "        print('Bias in the output layer',sess.run(b2))\n",
    "        print('Cost',sess.run(cost,feed_dict={X_:AND_X,Y_:AND_Y}))\n",
    "\n",
    "print('Final Prediction',sess.run(pred,feed_dict={X_:AND_X,Y_:AND_Y}))\n",
    "acc,acc_op=(tf.metrics.accuracy(AND_Y,sess.run(pred,feed_dict={X_:AND_X,Y_:AND_Y})))"
   ]
  },
  {
   "cell_type": "markdown",
   "metadata": {},
   "source": [
    "## Observation\n",
    "\n",
    "While trying with different types of inputs, increasing epochs gave good result \n",
    "but it reaches a saturation point aftre which the neurons donot further update weights"
   ]
  },
  {
   "cell_type": "code",
   "execution_count": null,
   "metadata": {},
   "outputs": [],
   "source": []
  },
  {
   "cell_type": "code",
   "execution_count": null,
   "metadata": {},
   "outputs": [],
   "source": []
  },
  {
   "cell_type": "code",
   "execution_count": null,
   "metadata": {},
   "outputs": [],
   "source": []
  },
  {
   "cell_type": "code",
   "execution_count": null,
   "metadata": {},
   "outputs": [],
   "source": []
  }
 ],
 "metadata": {
  "kernelspec": {
   "display_name": "Python 3",
   "language": "python",
   "name": "python3"
  },
  "language_info": {
   "codemirror_mode": {
    "name": "ipython",
    "version": 3
   },
   "file_extension": ".py",
   "mimetype": "text/x-python",
   "name": "python",
   "nbconvert_exporter": "python",
   "pygments_lexer": "ipython3",
   "version": "3.7.1"
  }
 },
 "nbformat": 4,
 "nbformat_minor": 2
}
